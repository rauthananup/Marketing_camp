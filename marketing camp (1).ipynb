{
 "cells": [
  {
   "cell_type": "code",
   "execution_count": 1,
   "id": "61455908-15d3-416f-9993-78cac29653a4",
   "metadata": {},
   "outputs": [],
   "source": [
    "#required package\n",
    "import numpy as np\n",
    "import pandas as pd\n",
    "import seaborn as sns\n",
    "import matplotlib.pyplot as plt"
   ]
  },
  {
   "cell_type": "code",
   "execution_count": 27,
   "id": "49cd3cf1-90ca-4924-a0e6-22930f740aa3",
   "metadata": {},
   "outputs": [
    {
     "data": {
      "text/html": [
       "<div>\n",
       "<style scoped>\n",
       "    .dataframe tbody tr th:only-of-type {\n",
       "        vertical-align: middle;\n",
       "    }\n",
       "\n",
       "    .dataframe tbody tr th {\n",
       "        vertical-align: top;\n",
       "    }\n",
       "\n",
       "    .dataframe thead th {\n",
       "        text-align: right;\n",
       "    }\n",
       "</style>\n",
       "<table border=\"1\" class=\"dataframe\">\n",
       "  <thead>\n",
       "    <tr style=\"text-align: right;\">\n",
       "      <th></th>\n",
       "      <th>ID</th>\n",
       "      <th>Year_Birth</th>\n",
       "      <th>Education</th>\n",
       "      <th>Marital_Status</th>\n",
       "      <th>Income</th>\n",
       "      <th>Kidhome</th>\n",
       "      <th>Teenhome</th>\n",
       "      <th>Dt_Customer</th>\n",
       "      <th>Recency</th>\n",
       "      <th>MntWines</th>\n",
       "      <th>...</th>\n",
       "      <th>NumWebVisitsMonth</th>\n",
       "      <th>AcceptedCmp3</th>\n",
       "      <th>AcceptedCmp4</th>\n",
       "      <th>AcceptedCmp5</th>\n",
       "      <th>AcceptedCmp1</th>\n",
       "      <th>AcceptedCmp2</th>\n",
       "      <th>Z_CostContact</th>\n",
       "      <th>Z_Revenue</th>\n",
       "      <th>complain_new</th>\n",
       "      <th>Response_new</th>\n",
       "    </tr>\n",
       "  </thead>\n",
       "  <tbody>\n",
       "    <tr>\n",
       "      <th>0</th>\n",
       "      <td>5524</td>\n",
       "      <td>1957</td>\n",
       "      <td>Graduation</td>\n",
       "      <td>Single</td>\n",
       "      <td>58138</td>\n",
       "      <td>0</td>\n",
       "      <td>0</td>\n",
       "      <td>2012-09-04</td>\n",
       "      <td>58</td>\n",
       "      <td>635</td>\n",
       "      <td>...</td>\n",
       "      <td>7</td>\n",
       "      <td>0</td>\n",
       "      <td>0</td>\n",
       "      <td>0</td>\n",
       "      <td>0</td>\n",
       "      <td>0</td>\n",
       "      <td>3</td>\n",
       "      <td>11</td>\n",
       "      <td>No</td>\n",
       "      <td>yes</td>\n",
       "    </tr>\n",
       "    <tr>\n",
       "      <th>1</th>\n",
       "      <td>2174</td>\n",
       "      <td>1954</td>\n",
       "      <td>Graduation</td>\n",
       "      <td>Single</td>\n",
       "      <td>46344</td>\n",
       "      <td>1</td>\n",
       "      <td>1</td>\n",
       "      <td>2014-03-08</td>\n",
       "      <td>38</td>\n",
       "      <td>11</td>\n",
       "      <td>...</td>\n",
       "      <td>5</td>\n",
       "      <td>0</td>\n",
       "      <td>0</td>\n",
       "      <td>0</td>\n",
       "      <td>0</td>\n",
       "      <td>0</td>\n",
       "      <td>3</td>\n",
       "      <td>11</td>\n",
       "      <td>No</td>\n",
       "      <td>No</td>\n",
       "    </tr>\n",
       "    <tr>\n",
       "      <th>2</th>\n",
       "      <td>4141</td>\n",
       "      <td>1965</td>\n",
       "      <td>Graduation</td>\n",
       "      <td>Together</td>\n",
       "      <td>71613</td>\n",
       "      <td>0</td>\n",
       "      <td>0</td>\n",
       "      <td>2013-08-21</td>\n",
       "      <td>26</td>\n",
       "      <td>426</td>\n",
       "      <td>...</td>\n",
       "      <td>4</td>\n",
       "      <td>0</td>\n",
       "      <td>0</td>\n",
       "      <td>0</td>\n",
       "      <td>0</td>\n",
       "      <td>0</td>\n",
       "      <td>3</td>\n",
       "      <td>11</td>\n",
       "      <td>No</td>\n",
       "      <td>No</td>\n",
       "    </tr>\n",
       "    <tr>\n",
       "      <th>3</th>\n",
       "      <td>6182</td>\n",
       "      <td>1984</td>\n",
       "      <td>Graduation</td>\n",
       "      <td>Together</td>\n",
       "      <td>26646</td>\n",
       "      <td>1</td>\n",
       "      <td>0</td>\n",
       "      <td>2014-02-10</td>\n",
       "      <td>26</td>\n",
       "      <td>11</td>\n",
       "      <td>...</td>\n",
       "      <td>6</td>\n",
       "      <td>0</td>\n",
       "      <td>0</td>\n",
       "      <td>0</td>\n",
       "      <td>0</td>\n",
       "      <td>0</td>\n",
       "      <td>3</td>\n",
       "      <td>11</td>\n",
       "      <td>No</td>\n",
       "      <td>No</td>\n",
       "    </tr>\n",
       "    <tr>\n",
       "      <th>4</th>\n",
       "      <td>5324</td>\n",
       "      <td>1981</td>\n",
       "      <td>PhD</td>\n",
       "      <td>Married</td>\n",
       "      <td>58293</td>\n",
       "      <td>1</td>\n",
       "      <td>0</td>\n",
       "      <td>2014-01-19</td>\n",
       "      <td>94</td>\n",
       "      <td>173</td>\n",
       "      <td>...</td>\n",
       "      <td>5</td>\n",
       "      <td>0</td>\n",
       "      <td>0</td>\n",
       "      <td>0</td>\n",
       "      <td>0</td>\n",
       "      <td>0</td>\n",
       "      <td>3</td>\n",
       "      <td>11</td>\n",
       "      <td>No</td>\n",
       "      <td>No</td>\n",
       "    </tr>\n",
       "    <tr>\n",
       "      <th>5</th>\n",
       "      <td>7446</td>\n",
       "      <td>1967</td>\n",
       "      <td>Master</td>\n",
       "      <td>Together</td>\n",
       "      <td>62513</td>\n",
       "      <td>0</td>\n",
       "      <td>1</td>\n",
       "      <td>2013-09-09</td>\n",
       "      <td>16</td>\n",
       "      <td>520</td>\n",
       "      <td>...</td>\n",
       "      <td>6</td>\n",
       "      <td>0</td>\n",
       "      <td>0</td>\n",
       "      <td>0</td>\n",
       "      <td>0</td>\n",
       "      <td>0</td>\n",
       "      <td>3</td>\n",
       "      <td>11</td>\n",
       "      <td>No</td>\n",
       "      <td>No</td>\n",
       "    </tr>\n",
       "    <tr>\n",
       "      <th>6</th>\n",
       "      <td>965</td>\n",
       "      <td>1971</td>\n",
       "      <td>Graduation</td>\n",
       "      <td>Divorced</td>\n",
       "      <td>55635</td>\n",
       "      <td>0</td>\n",
       "      <td>1</td>\n",
       "      <td>2012-11-13</td>\n",
       "      <td>34</td>\n",
       "      <td>235</td>\n",
       "      <td>...</td>\n",
       "      <td>6</td>\n",
       "      <td>0</td>\n",
       "      <td>0</td>\n",
       "      <td>0</td>\n",
       "      <td>0</td>\n",
       "      <td>0</td>\n",
       "      <td>3</td>\n",
       "      <td>11</td>\n",
       "      <td>No</td>\n",
       "      <td>No</td>\n",
       "    </tr>\n",
       "    <tr>\n",
       "      <th>7</th>\n",
       "      <td>6177</td>\n",
       "      <td>1985</td>\n",
       "      <td>PhD</td>\n",
       "      <td>Married</td>\n",
       "      <td>33454</td>\n",
       "      <td>1</td>\n",
       "      <td>0</td>\n",
       "      <td>2013-05-08</td>\n",
       "      <td>32</td>\n",
       "      <td>76</td>\n",
       "      <td>...</td>\n",
       "      <td>8</td>\n",
       "      <td>0</td>\n",
       "      <td>0</td>\n",
       "      <td>0</td>\n",
       "      <td>0</td>\n",
       "      <td>0</td>\n",
       "      <td>3</td>\n",
       "      <td>11</td>\n",
       "      <td>No</td>\n",
       "      <td>No</td>\n",
       "    </tr>\n",
       "    <tr>\n",
       "      <th>8</th>\n",
       "      <td>4855</td>\n",
       "      <td>1974</td>\n",
       "      <td>PhD</td>\n",
       "      <td>Together</td>\n",
       "      <td>30351</td>\n",
       "      <td>1</td>\n",
       "      <td>0</td>\n",
       "      <td>2013-06-06</td>\n",
       "      <td>19</td>\n",
       "      <td>14</td>\n",
       "      <td>...</td>\n",
       "      <td>9</td>\n",
       "      <td>0</td>\n",
       "      <td>0</td>\n",
       "      <td>0</td>\n",
       "      <td>0</td>\n",
       "      <td>0</td>\n",
       "      <td>3</td>\n",
       "      <td>11</td>\n",
       "      <td>No</td>\n",
       "      <td>yes</td>\n",
       "    </tr>\n",
       "    <tr>\n",
       "      <th>9</th>\n",
       "      <td>5899</td>\n",
       "      <td>1950</td>\n",
       "      <td>PhD</td>\n",
       "      <td>Together</td>\n",
       "      <td>5648</td>\n",
       "      <td>1</td>\n",
       "      <td>1</td>\n",
       "      <td>2014-03-13</td>\n",
       "      <td>68</td>\n",
       "      <td>28</td>\n",
       "      <td>...</td>\n",
       "      <td>20</td>\n",
       "      <td>1</td>\n",
       "      <td>0</td>\n",
       "      <td>0</td>\n",
       "      <td>0</td>\n",
       "      <td>0</td>\n",
       "      <td>3</td>\n",
       "      <td>11</td>\n",
       "      <td>No</td>\n",
       "      <td>No</td>\n",
       "    </tr>\n",
       "  </tbody>\n",
       "</table>\n",
       "<p>10 rows × 29 columns</p>\n",
       "</div>"
      ],
      "text/plain": [
       "     ID  Year_Birth   Education Marital_Status  Income  Kidhome  Teenhome  \\\n",
       "0  5524        1957  Graduation         Single   58138        0         0   \n",
       "1  2174        1954  Graduation         Single   46344        1         1   \n",
       "2  4141        1965  Graduation       Together   71613        0         0   \n",
       "3  6182        1984  Graduation       Together   26646        1         0   \n",
       "4  5324        1981         PhD        Married   58293        1         0   \n",
       "5  7446        1967      Master       Together   62513        0         1   \n",
       "6   965        1971  Graduation       Divorced   55635        0         1   \n",
       "7  6177        1985         PhD        Married   33454        1         0   \n",
       "8  4855        1974         PhD       Together   30351        1         0   \n",
       "9  5899        1950         PhD       Together    5648        1         1   \n",
       "\n",
       "  Dt_Customer  Recency  MntWines  ...  NumWebVisitsMonth  AcceptedCmp3  \\\n",
       "0  2012-09-04       58       635  ...                  7             0   \n",
       "1  2014-03-08       38        11  ...                  5             0   \n",
       "2  2013-08-21       26       426  ...                  4             0   \n",
       "3  2014-02-10       26        11  ...                  6             0   \n",
       "4  2014-01-19       94       173  ...                  5             0   \n",
       "5  2013-09-09       16       520  ...                  6             0   \n",
       "6  2012-11-13       34       235  ...                  6             0   \n",
       "7  2013-05-08       32        76  ...                  8             0   \n",
       "8  2013-06-06       19        14  ...                  9             0   \n",
       "9  2014-03-13       68        28  ...                 20             1   \n",
       "\n",
       "   AcceptedCmp4  AcceptedCmp5  AcceptedCmp1  AcceptedCmp2  Z_CostContact  \\\n",
       "0             0             0             0             0              3   \n",
       "1             0             0             0             0              3   \n",
       "2             0             0             0             0              3   \n",
       "3             0             0             0             0              3   \n",
       "4             0             0             0             0              3   \n",
       "5             0             0             0             0              3   \n",
       "6             0             0             0             0              3   \n",
       "7             0             0             0             0              3   \n",
       "8             0             0             0             0              3   \n",
       "9             0             0             0             0              3   \n",
       "\n",
       "   Z_Revenue  complain_new  Response_new  \n",
       "0         11            No           yes  \n",
       "1         11            No            No  \n",
       "2         11            No            No  \n",
       "3         11            No            No  \n",
       "4         11            No            No  \n",
       "5         11            No            No  \n",
       "6         11            No            No  \n",
       "7         11            No            No  \n",
       "8         11            No           yes  \n",
       "9         11            No            No  \n",
       "\n",
       "[10 rows x 29 columns]"
      ]
     },
     "execution_count": 27,
     "metadata": {},
     "output_type": "execute_result"
    }
   ],
   "source": [
    "market_cam = pd.DataFrame(pd.read_csv(\"C:/Users/rauth/Downloads//marketing_campaign1.csv\"))\n",
    "market_cam.head(10)"
   ]
  },
  {
   "cell_type": "code",
   "execution_count": 3,
   "id": "197da1bc-0cb4-4961-93a7-ad442d51c061",
   "metadata": {},
   "outputs": [
    {
     "name": "stdout",
     "output_type": "stream",
     "text": [
      "<class 'pandas.core.frame.DataFrame'>\n",
      "RangeIndex: 2240 entries, 0 to 2239\n",
      "Data columns (total 29 columns):\n",
      " #   Column               Non-Null Count  Dtype \n",
      "---  ------               --------------  ----- \n",
      " 0   ID                   2240 non-null   int64 \n",
      " 1   Year_Birth           2240 non-null   int64 \n",
      " 2   Education            2240 non-null   object\n",
      " 3   Marital_Status       2240 non-null   object\n",
      " 4   Income               2240 non-null   int64 \n",
      " 5   Kidhome              2240 non-null   int64 \n",
      " 6   Teenhome             2240 non-null   int64 \n",
      " 7   Dt_Customer          2240 non-null   object\n",
      " 8   Recency              2240 non-null   int64 \n",
      " 9   MntWines             2240 non-null   int64 \n",
      " 10  MntFruits            2240 non-null   int64 \n",
      " 11  MntMeatProducts      2240 non-null   int64 \n",
      " 12  MntFishProducts      2240 non-null   int64 \n",
      " 13  MntSweetProducts     2240 non-null   int64 \n",
      " 14  MntGoldProds         2240 non-null   int64 \n",
      " 15  NumDealsPurchases    2240 non-null   int64 \n",
      " 16  NumWebPurchases      2240 non-null   int64 \n",
      " 17  NumCatalogPurchases  2240 non-null   int64 \n",
      " 18  NumStorePurchases    2240 non-null   int64 \n",
      " 19  NumWebVisitsMonth    2240 non-null   int64 \n",
      " 20  AcceptedCmp3         2240 non-null   int64 \n",
      " 21  AcceptedCmp4         2240 non-null   int64 \n",
      " 22  AcceptedCmp5         2240 non-null   int64 \n",
      " 23  AcceptedCmp1         2240 non-null   int64 \n",
      " 24  AcceptedCmp2         2240 non-null   int64 \n",
      " 25  Z_CostContact        2240 non-null   int64 \n",
      " 26  Z_Revenue            2240 non-null   int64 \n",
      " 27  complain_new         2240 non-null   object\n",
      " 28  Response_new         2240 non-null   object\n",
      "dtypes: int64(24), object(5)\n",
      "memory usage: 507.6+ KB\n"
     ]
    }
   ],
   "source": [
    "market_cam.info()"
   ]
  },
  {
   "cell_type": "code",
   "execution_count": 4,
   "id": "0a3fc618-2748-4837-8a4f-92a374757c8b",
   "metadata": {},
   "outputs": [
    {
     "data": {
      "text/html": [
       "<div>\n",
       "<style scoped>\n",
       "    .dataframe tbody tr th:only-of-type {\n",
       "        vertical-align: middle;\n",
       "    }\n",
       "\n",
       "    .dataframe tbody tr th {\n",
       "        vertical-align: top;\n",
       "    }\n",
       "\n",
       "    .dataframe thead th {\n",
       "        text-align: right;\n",
       "    }\n",
       "</style>\n",
       "<table border=\"1\" class=\"dataframe\">\n",
       "  <thead>\n",
       "    <tr style=\"text-align: right;\">\n",
       "      <th></th>\n",
       "      <th>count</th>\n",
       "      <th>mean</th>\n",
       "      <th>std</th>\n",
       "      <th>min</th>\n",
       "      <th>25%</th>\n",
       "      <th>50%</th>\n",
       "      <th>75%</th>\n",
       "      <th>max</th>\n",
       "    </tr>\n",
       "  </thead>\n",
       "  <tbody>\n",
       "    <tr>\n",
       "      <th>ID</th>\n",
       "      <td>2240.0</td>\n",
       "      <td>5592.159821</td>\n",
       "      <td>3246.662198</td>\n",
       "      <td>0.0</td>\n",
       "      <td>2828.25</td>\n",
       "      <td>5458.5</td>\n",
       "      <td>8427.75</td>\n",
       "      <td>11191.0</td>\n",
       "    </tr>\n",
       "    <tr>\n",
       "      <th>Year_Birth</th>\n",
       "      <td>2240.0</td>\n",
       "      <td>1968.805804</td>\n",
       "      <td>11.984069</td>\n",
       "      <td>1893.0</td>\n",
       "      <td>1959.00</td>\n",
       "      <td>1970.0</td>\n",
       "      <td>1977.00</td>\n",
       "      <td>1996.0</td>\n",
       "    </tr>\n",
       "    <tr>\n",
       "      <th>Income</th>\n",
       "      <td>2240.0</td>\n",
       "      <td>51687.459375</td>\n",
       "      <td>25609.342730</td>\n",
       "      <td>0.0</td>\n",
       "      <td>34722.00</td>\n",
       "      <td>51075.0</td>\n",
       "      <td>68289.75</td>\n",
       "      <td>666666.0</td>\n",
       "    </tr>\n",
       "    <tr>\n",
       "      <th>Kidhome</th>\n",
       "      <td>2240.0</td>\n",
       "      <td>0.444196</td>\n",
       "      <td>0.538398</td>\n",
       "      <td>0.0</td>\n",
       "      <td>0.00</td>\n",
       "      <td>0.0</td>\n",
       "      <td>1.00</td>\n",
       "      <td>2.0</td>\n",
       "    </tr>\n",
       "    <tr>\n",
       "      <th>Teenhome</th>\n",
       "      <td>2240.0</td>\n",
       "      <td>0.506250</td>\n",
       "      <td>0.544538</td>\n",
       "      <td>0.0</td>\n",
       "      <td>0.00</td>\n",
       "      <td>0.0</td>\n",
       "      <td>1.00</td>\n",
       "      <td>2.0</td>\n",
       "    </tr>\n",
       "    <tr>\n",
       "      <th>Recency</th>\n",
       "      <td>2240.0</td>\n",
       "      <td>49.109375</td>\n",
       "      <td>28.962453</td>\n",
       "      <td>0.0</td>\n",
       "      <td>24.00</td>\n",
       "      <td>49.0</td>\n",
       "      <td>74.00</td>\n",
       "      <td>99.0</td>\n",
       "    </tr>\n",
       "    <tr>\n",
       "      <th>MntWines</th>\n",
       "      <td>2240.0</td>\n",
       "      <td>303.935714</td>\n",
       "      <td>336.597393</td>\n",
       "      <td>0.0</td>\n",
       "      <td>23.75</td>\n",
       "      <td>173.5</td>\n",
       "      <td>504.25</td>\n",
       "      <td>1493.0</td>\n",
       "    </tr>\n",
       "    <tr>\n",
       "      <th>MntFruits</th>\n",
       "      <td>2240.0</td>\n",
       "      <td>26.302232</td>\n",
       "      <td>39.773434</td>\n",
       "      <td>0.0</td>\n",
       "      <td>1.00</td>\n",
       "      <td>8.0</td>\n",
       "      <td>33.00</td>\n",
       "      <td>199.0</td>\n",
       "    </tr>\n",
       "    <tr>\n",
       "      <th>MntMeatProducts</th>\n",
       "      <td>2240.0</td>\n",
       "      <td>166.950000</td>\n",
       "      <td>225.715373</td>\n",
       "      <td>0.0</td>\n",
       "      <td>16.00</td>\n",
       "      <td>67.0</td>\n",
       "      <td>232.00</td>\n",
       "      <td>1725.0</td>\n",
       "    </tr>\n",
       "    <tr>\n",
       "      <th>MntFishProducts</th>\n",
       "      <td>2240.0</td>\n",
       "      <td>37.525446</td>\n",
       "      <td>54.628979</td>\n",
       "      <td>0.0</td>\n",
       "      <td>3.00</td>\n",
       "      <td>12.0</td>\n",
       "      <td>50.00</td>\n",
       "      <td>259.0</td>\n",
       "    </tr>\n",
       "    <tr>\n",
       "      <th>MntSweetProducts</th>\n",
       "      <td>2240.0</td>\n",
       "      <td>27.062946</td>\n",
       "      <td>41.280498</td>\n",
       "      <td>0.0</td>\n",
       "      <td>1.00</td>\n",
       "      <td>8.0</td>\n",
       "      <td>33.00</td>\n",
       "      <td>263.0</td>\n",
       "    </tr>\n",
       "    <tr>\n",
       "      <th>MntGoldProds</th>\n",
       "      <td>2240.0</td>\n",
       "      <td>44.021875</td>\n",
       "      <td>52.167439</td>\n",
       "      <td>0.0</td>\n",
       "      <td>9.00</td>\n",
       "      <td>24.0</td>\n",
       "      <td>56.00</td>\n",
       "      <td>362.0</td>\n",
       "    </tr>\n",
       "    <tr>\n",
       "      <th>NumDealsPurchases</th>\n",
       "      <td>2240.0</td>\n",
       "      <td>2.325000</td>\n",
       "      <td>1.932238</td>\n",
       "      <td>0.0</td>\n",
       "      <td>1.00</td>\n",
       "      <td>2.0</td>\n",
       "      <td>3.00</td>\n",
       "      <td>15.0</td>\n",
       "    </tr>\n",
       "    <tr>\n",
       "      <th>NumWebPurchases</th>\n",
       "      <td>2240.0</td>\n",
       "      <td>4.084821</td>\n",
       "      <td>2.778714</td>\n",
       "      <td>0.0</td>\n",
       "      <td>2.00</td>\n",
       "      <td>4.0</td>\n",
       "      <td>6.00</td>\n",
       "      <td>27.0</td>\n",
       "    </tr>\n",
       "    <tr>\n",
       "      <th>NumCatalogPurchases</th>\n",
       "      <td>2240.0</td>\n",
       "      <td>2.662054</td>\n",
       "      <td>2.923101</td>\n",
       "      <td>0.0</td>\n",
       "      <td>0.00</td>\n",
       "      <td>2.0</td>\n",
       "      <td>4.00</td>\n",
       "      <td>28.0</td>\n",
       "    </tr>\n",
       "    <tr>\n",
       "      <th>NumStorePurchases</th>\n",
       "      <td>2240.0</td>\n",
       "      <td>5.790179</td>\n",
       "      <td>3.250958</td>\n",
       "      <td>0.0</td>\n",
       "      <td>3.00</td>\n",
       "      <td>5.0</td>\n",
       "      <td>8.00</td>\n",
       "      <td>13.0</td>\n",
       "    </tr>\n",
       "    <tr>\n",
       "      <th>NumWebVisitsMonth</th>\n",
       "      <td>2240.0</td>\n",
       "      <td>5.316518</td>\n",
       "      <td>2.426645</td>\n",
       "      <td>0.0</td>\n",
       "      <td>3.00</td>\n",
       "      <td>6.0</td>\n",
       "      <td>7.00</td>\n",
       "      <td>20.0</td>\n",
       "    </tr>\n",
       "    <tr>\n",
       "      <th>AcceptedCmp3</th>\n",
       "      <td>2240.0</td>\n",
       "      <td>0.072768</td>\n",
       "      <td>0.259813</td>\n",
       "      <td>0.0</td>\n",
       "      <td>0.00</td>\n",
       "      <td>0.0</td>\n",
       "      <td>0.00</td>\n",
       "      <td>1.0</td>\n",
       "    </tr>\n",
       "    <tr>\n",
       "      <th>AcceptedCmp4</th>\n",
       "      <td>2240.0</td>\n",
       "      <td>0.074554</td>\n",
       "      <td>0.262728</td>\n",
       "      <td>0.0</td>\n",
       "      <td>0.00</td>\n",
       "      <td>0.0</td>\n",
       "      <td>0.00</td>\n",
       "      <td>1.0</td>\n",
       "    </tr>\n",
       "    <tr>\n",
       "      <th>AcceptedCmp5</th>\n",
       "      <td>2240.0</td>\n",
       "      <td>0.072768</td>\n",
       "      <td>0.259813</td>\n",
       "      <td>0.0</td>\n",
       "      <td>0.00</td>\n",
       "      <td>0.0</td>\n",
       "      <td>0.00</td>\n",
       "      <td>1.0</td>\n",
       "    </tr>\n",
       "    <tr>\n",
       "      <th>AcceptedCmp1</th>\n",
       "      <td>2240.0</td>\n",
       "      <td>0.064286</td>\n",
       "      <td>0.245316</td>\n",
       "      <td>0.0</td>\n",
       "      <td>0.00</td>\n",
       "      <td>0.0</td>\n",
       "      <td>0.00</td>\n",
       "      <td>1.0</td>\n",
       "    </tr>\n",
       "    <tr>\n",
       "      <th>AcceptedCmp2</th>\n",
       "      <td>2240.0</td>\n",
       "      <td>0.013393</td>\n",
       "      <td>0.114976</td>\n",
       "      <td>0.0</td>\n",
       "      <td>0.00</td>\n",
       "      <td>0.0</td>\n",
       "      <td>0.00</td>\n",
       "      <td>1.0</td>\n",
       "    </tr>\n",
       "    <tr>\n",
       "      <th>Z_CostContact</th>\n",
       "      <td>2240.0</td>\n",
       "      <td>3.000000</td>\n",
       "      <td>0.000000</td>\n",
       "      <td>3.0</td>\n",
       "      <td>3.00</td>\n",
       "      <td>3.0</td>\n",
       "      <td>3.00</td>\n",
       "      <td>3.0</td>\n",
       "    </tr>\n",
       "    <tr>\n",
       "      <th>Z_Revenue</th>\n",
       "      <td>2240.0</td>\n",
       "      <td>11.000000</td>\n",
       "      <td>0.000000</td>\n",
       "      <td>11.0</td>\n",
       "      <td>11.00</td>\n",
       "      <td>11.0</td>\n",
       "      <td>11.00</td>\n",
       "      <td>11.0</td>\n",
       "    </tr>\n",
       "  </tbody>\n",
       "</table>\n",
       "</div>"
      ],
      "text/plain": [
       "                      count          mean           std     min       25%  \\\n",
       "ID                   2240.0   5592.159821   3246.662198     0.0   2828.25   \n",
       "Year_Birth           2240.0   1968.805804     11.984069  1893.0   1959.00   \n",
       "Income               2240.0  51687.459375  25609.342730     0.0  34722.00   \n",
       "Kidhome              2240.0      0.444196      0.538398     0.0      0.00   \n",
       "Teenhome             2240.0      0.506250      0.544538     0.0      0.00   \n",
       "Recency              2240.0     49.109375     28.962453     0.0     24.00   \n",
       "MntWines             2240.0    303.935714    336.597393     0.0     23.75   \n",
       "MntFruits            2240.0     26.302232     39.773434     0.0      1.00   \n",
       "MntMeatProducts      2240.0    166.950000    225.715373     0.0     16.00   \n",
       "MntFishProducts      2240.0     37.525446     54.628979     0.0      3.00   \n",
       "MntSweetProducts     2240.0     27.062946     41.280498     0.0      1.00   \n",
       "MntGoldProds         2240.0     44.021875     52.167439     0.0      9.00   \n",
       "NumDealsPurchases    2240.0      2.325000      1.932238     0.0      1.00   \n",
       "NumWebPurchases      2240.0      4.084821      2.778714     0.0      2.00   \n",
       "NumCatalogPurchases  2240.0      2.662054      2.923101     0.0      0.00   \n",
       "NumStorePurchases    2240.0      5.790179      3.250958     0.0      3.00   \n",
       "NumWebVisitsMonth    2240.0      5.316518      2.426645     0.0      3.00   \n",
       "AcceptedCmp3         2240.0      0.072768      0.259813     0.0      0.00   \n",
       "AcceptedCmp4         2240.0      0.074554      0.262728     0.0      0.00   \n",
       "AcceptedCmp5         2240.0      0.072768      0.259813     0.0      0.00   \n",
       "AcceptedCmp1         2240.0      0.064286      0.245316     0.0      0.00   \n",
       "AcceptedCmp2         2240.0      0.013393      0.114976     0.0      0.00   \n",
       "Z_CostContact        2240.0      3.000000      0.000000     3.0      3.00   \n",
       "Z_Revenue            2240.0     11.000000      0.000000    11.0     11.00   \n",
       "\n",
       "                         50%       75%       max  \n",
       "ID                    5458.5   8427.75   11191.0  \n",
       "Year_Birth            1970.0   1977.00    1996.0  \n",
       "Income               51075.0  68289.75  666666.0  \n",
       "Kidhome                  0.0      1.00       2.0  \n",
       "Teenhome                 0.0      1.00       2.0  \n",
       "Recency                 49.0     74.00      99.0  \n",
       "MntWines               173.5    504.25    1493.0  \n",
       "MntFruits                8.0     33.00     199.0  \n",
       "MntMeatProducts         67.0    232.00    1725.0  \n",
       "MntFishProducts         12.0     50.00     259.0  \n",
       "MntSweetProducts         8.0     33.00     263.0  \n",
       "MntGoldProds            24.0     56.00     362.0  \n",
       "NumDealsPurchases        2.0      3.00      15.0  \n",
       "NumWebPurchases          4.0      6.00      27.0  \n",
       "NumCatalogPurchases      2.0      4.00      28.0  \n",
       "NumStorePurchases        5.0      8.00      13.0  \n",
       "NumWebVisitsMonth        6.0      7.00      20.0  \n",
       "AcceptedCmp3             0.0      0.00       1.0  \n",
       "AcceptedCmp4             0.0      0.00       1.0  \n",
       "AcceptedCmp5             0.0      0.00       1.0  \n",
       "AcceptedCmp1             0.0      0.00       1.0  \n",
       "AcceptedCmp2             0.0      0.00       1.0  \n",
       "Z_CostContact            3.0      3.00       3.0  \n",
       "Z_Revenue               11.0     11.00      11.0  "
      ]
     },
     "execution_count": 4,
     "metadata": {},
     "output_type": "execute_result"
    }
   ],
   "source": [
    "market_cam.describe().T"
   ]
  },
  {
   "cell_type": "code",
   "execution_count": 5,
   "id": "aebf8613-cd73-4a4d-9e16-e2168ee310c8",
   "metadata": {},
   "outputs": [
    {
     "name": "stdout",
     "output_type": "stream",
     "text": [
      "Total Number of Unique Vlaues in columns:\n",
      "ID:(Datatype: int64) : 2240\n",
      "Year_Birth:(Datatype: int64) : 59\n",
      "Education:(Datatype: object) : 5\n",
      "Marital_Status:(Datatype: object) : 8\n",
      "Income:(Datatype: int64) : 1975\n",
      "Kidhome:(Datatype: int64) : 3\n",
      "Teenhome:(Datatype: int64) : 3\n",
      "Dt_Customer:(Datatype: object) : 663\n",
      "Recency:(Datatype: int64) : 100\n",
      "MntWines:(Datatype: int64) : 776\n",
      "MntFruits:(Datatype: int64) : 158\n",
      "MntMeatProducts:(Datatype: int64) : 558\n",
      "MntFishProducts:(Datatype: int64) : 182\n",
      "MntSweetProducts:(Datatype: int64) : 177\n",
      "MntGoldProds:(Datatype: int64) : 213\n",
      "NumDealsPurchases:(Datatype: int64) : 15\n",
      "NumWebPurchases:(Datatype: int64) : 15\n",
      "NumCatalogPurchases:(Datatype: int64) : 14\n",
      "NumStorePurchases:(Datatype: int64) : 14\n",
      "NumWebVisitsMonth:(Datatype: int64) : 16\n",
      "AcceptedCmp3:(Datatype: int64) : 2\n",
      "AcceptedCmp4:(Datatype: int64) : 2\n",
      "AcceptedCmp5:(Datatype: int64) : 2\n",
      "AcceptedCmp1:(Datatype: int64) : 2\n",
      "AcceptedCmp2:(Datatype: int64) : 2\n",
      "Z_CostContact:(Datatype: int64) : 1\n",
      "Z_Revenue:(Datatype: int64) : 1\n",
      "complain_new:(Datatype: object) : 2\n",
      "Response_new:(Datatype: object) : 2\n"
     ]
    }
   ],
   "source": [
    "# Print Total number of unique values in columns:\n",
    "print('Total Number of Unique Vlaues in columns:') \n",
    "for features in market_cam:\n",
    "    if(features != 'Response'):\n",
    "        print(str(features)+ ':(Datatype: '+str(market_cam[features].dtype)+') : '+str(len(market_cam[features].unique())))"
   ]
  },
  {
   "cell_type": "code",
   "execution_count": 6,
   "id": "47f16e98-0044-4040-8924-3b312f7c969f",
   "metadata": {},
   "outputs": [],
   "source": [
    "market_cam.drop(['Z_CostContact','Z_Revenue'],axis=1,inplace=True)"
   ]
  },
  {
   "cell_type": "code",
   "execution_count": 7,
   "id": "00cbcaa5-0beb-4231-9acd-080d25e46c81",
   "metadata": {},
   "outputs": [
    {
     "data": {
      "text/plain": [
       "ID                     0.0\n",
       "Year_Birth             0.0\n",
       "Education              0.0\n",
       "Marital_Status         0.0\n",
       "Income                 0.0\n",
       "Kidhome                0.0\n",
       "Teenhome               0.0\n",
       "Dt_Customer            0.0\n",
       "Recency                0.0\n",
       "MntWines               0.0\n",
       "MntFruits              0.0\n",
       "MntMeatProducts        0.0\n",
       "MntFishProducts        0.0\n",
       "MntSweetProducts       0.0\n",
       "MntGoldProds           0.0\n",
       "NumDealsPurchases      0.0\n",
       "NumWebPurchases        0.0\n",
       "NumCatalogPurchases    0.0\n",
       "NumStorePurchases      0.0\n",
       "NumWebVisitsMonth      0.0\n",
       "AcceptedCmp3           0.0\n",
       "AcceptedCmp4           0.0\n",
       "AcceptedCmp5           0.0\n",
       "AcceptedCmp1           0.0\n",
       "AcceptedCmp2           0.0\n",
       "complain_new           0.0\n",
       "Response_new           0.0\n",
       "dtype: float64"
      ]
     },
     "execution_count": 7,
     "metadata": {},
     "output_type": "execute_result"
    }
   ],
   "source": [
    "market_cam.isnull().sum()/len(market_cam)"
   ]
  },
  {
   "cell_type": "code",
   "execution_count": 8,
   "id": "c8a47308-389e-47b1-b45d-e4b3eb1345fe",
   "metadata": {},
   "outputs": [
    {
     "data": {
      "text/plain": [
       "(2240, 27)"
      ]
     },
     "execution_count": 8,
     "metadata": {},
     "output_type": "execute_result"
    }
   ],
   "source": [
    "market_cam.shape"
   ]
  },
  {
   "cell_type": "code",
   "execution_count": 9,
   "id": "f77e669c-0540-4bca-8f5d-cdae7e8c65b9",
   "metadata": {},
   "outputs": [
    {
     "data": {
      "text/plain": [
       "No     1906\n",
       "yes     334\n",
       "Name: Response_new, dtype: int64"
      ]
     },
     "execution_count": 9,
     "metadata": {},
     "output_type": "execute_result"
    }
   ],
   "source": [
    "#First we look independent variable i.e.,Attrition\n",
    "market_cam['Response_new'].value_counts()"
   ]
  },
  {
   "cell_type": "code",
   "execution_count": 71,
   "id": "249236f7-f1ad-4e63-99d6-e3bb329ccdf0",
   "metadata": {},
   "outputs": [
    {
     "data": {
      "text/plain": [
       "Coupled     1444\n",
       "Single       483\n",
       "Divorced     232\n",
       "Widow         77\n",
       "Absurd         4\n",
       "Name: Marital_Status, dtype: int64"
      ]
     },
     "execution_count": 71,
     "metadata": {},
     "output_type": "execute_result"
    }
   ],
   "source": [
    "market_cam['Marital_Status'].value_counts()"
   ]
  },
  {
   "cell_type": "code",
   "execution_count": 10,
   "id": "1573a3b7-a017-4932-8abe-5d08244f83a4",
   "metadata": {},
   "outputs": [
    {
     "data": {
      "text/plain": [
       "No     85.089286\n",
       "yes    14.910714\n",
       "Name: Response_new, dtype: float64"
      ]
     },
     "execution_count": 10,
     "metadata": {},
     "output_type": "execute_result"
    }
   ],
   "source": [
    "market_cam['Response_new'].value_counts(normalize=True)*100"
   ]
  },
  {
   "cell_type": "code",
   "execution_count": 11,
   "id": "f1910555-2679-4e6b-9182-280f8a70c375",
   "metadata": {},
   "outputs": [
    {
     "data": {
      "text/plain": [
       "Text(0.5, 1.0, 'Response count on last campaign')"
      ]
     },
     "execution_count": 11,
     "metadata": {},
     "output_type": "execute_result"
    },
    {
     "data": {
      "image/png": "[encoded data removed]",
      "text/plain": [
       "<Figure size 360x360 with 1 Axes>"
      ]
     },
     "metadata": {
      "needs_background": "light"
     },
     "output_type": "display_data"
    }
   ],
   "source": [
    "plt.figure(figsize=(5,5))\n",
    "sns.countplot(x=market_cam['Response_new'])\n",
    "plt.title('Response count on last campaign')"
   ]
  },
  {
   "cell_type": "markdown",
   "id": "dc94a73d-e14b-4dd7-93e1-2ba5a4df1410",
   "metadata": {},
   "source": [
    "The Response on last campaign of 334 (around 15%) people out of 2240 Accepted Offer"
   ]
  },
  {
   "cell_type": "code",
   "execution_count": null,
   "id": "fc35d310-b73b-4c33-a1e0-ff34ca20ed37",
   "metadata": {},
   "outputs": [],
   "source": []
  },
  {
   "cell_type": "code",
   "execution_count": 12,
   "id": "839c9ec2-0661-4dd6-9662-b07f8a241fc1",
   "metadata": {},
   "outputs": [
    {
     "data": {
      "text/plain": [
       "Text(0.5, 1.0, 'Average Income as per Eduction')"
      ]
     },
     "execution_count": 12,
     "metadata": {},
     "output_type": "execute_result"
    },
    {
     "data": {
      "image/png": "[encoded data removed]",
      "text/plain": [
       "<Figure size 432x360 with 1 Axes>"
      ]
     },
     "metadata": {
      "needs_background": "light"
     },
     "output_type": "display_data"
    }
   ],
   "source": [
    "plt.figure(figsize=(6,5))\n",
    "sns.barplot(x=market_cam['Income'],y=market_cam['Education'])\n",
    "plt.title('Average Income as per Eduction')"
   ]
  },
  {
   "cell_type": "code",
   "execution_count": 13,
   "id": "e12cf09c-177e-4c8b-961b-c8513771338a",
   "metadata": {},
   "outputs": [
    {
     "name": "stdout",
     "output_type": "stream",
     "text": [
      "Response_new     No  yes\n",
      "Marital_Status          \n",
      "Absurd            1    1\n",
      "Alone             2    1\n",
      "Divorced        184   48\n",
      "Married         766   98\n",
      "Single          374  106\n",
      "Together        520   60\n",
      "Widow            58   19\n",
      "YOLO              1    1\n"
     ]
    },
    {
     "data": {
      "image/png": "[encoded data removed]",
      "text/plain": [
       "<Figure size 576x360 with 1 Axes>"
      ]
     },
     "metadata": {
      "needs_background": "light"
     },
     "output_type": "display_data"
    }
   ],
   "source": [
    "# Relation between \"Response' and \"married' :\n",
    "print(pd.crosstab(market_cam['Marital_Status'],market_cam['Response_new']))\n",
    "married= pd.crosstab(market_cam['Marital_Status'],market_cam['Response_new'])\n",
    "married.div(married.sum(1).astype(float),axis=0).plot(kind='bar',stacked=False,figsize=(8,5))\n",
    "plt.xlabel('Marital')\n",
    "plt.ylabel('Percentage')\n",
    "plt.show()"
   ]
  },
  {
   "cell_type": "markdown",
   "id": "26232de1-af1b-40b8-bec6-a42301b57e47",
   "metadata": {},
   "source": [
    "## Checking Outlier in Products, Purchases and Income"
   ]
  },
  {
   "cell_type": "code",
   "execution_count": 18,
   "id": "84f76d22-5c0d-42c8-b66f-2ff6ae5ec8a1",
   "metadata": {},
   "outputs": [
    {
     "data": {
      "image/png": "[encoded data removed]",
      "text/plain": [
       "<Figure size 1080x720 with 1 Axes>"
      ]
     },
     "metadata": {
      "needs_background": "light"
     },
     "output_type": "display_data"
    }
   ],
   "source": [
    "df_mnt = market_cam[['MntWines','MntGoldProds','MntFishProducts','MntMeatProducts','MntSweetProducts','MntFruits']]\n",
    "df_mntMelt = df_mnt.melt()\n",
    "plt.figure(figsize=(15,10))\n",
    "plt.title('Boxplots for Numerical variables of Products')\n",
    "bp=sns.boxplot(x='variable',y='value',data=df_mntMelt)\n",
    "bp.set_xticklabels(bp.get_xticklabels(),rotation=90)\n",
    "plt.show()"
   ]
  },
  {
   "cell_type": "code",
   "execution_count": null,
   "id": "fdb4af42-633a-4e3f-9836-9bf2baa277d5",
   "metadata": {},
   "outputs": [],
   "source": []
  },
  {
   "cell_type": "code",
   "execution_count": 21,
   "id": "e9c18e97-a239-4c71-9845-b68664401b4e",
   "metadata": {},
   "outputs": [
    {
     "data": {
      "text/plain": [
       "(array([0, 1, 2, 3]),\n",
       " [Text(0, 0, 'NumDealsPurchases'),\n",
       "  Text(1, 0, 'NumWebPurchases'),\n",
       "  Text(2, 0, 'NumStorePurchases'),\n",
       "  Text(3, 0, 'NumCatalogPurchases')])"
      ]
     },
     "execution_count": 21,
     "metadata": {},
     "output_type": "execute_result"
    },
    {
     "data": {
      "image/png": "[encoded data removed]",
      "text/plain": [
       "<Figure size 432x288 with 1 Axes>"
      ]
     },
     "metadata": {
      "needs_background": "light"
     },
     "output_type": "display_data"
    }
   ],
   "source": [
    "df_num = market_cam [['NumDealsPurchases','NumWebPurchases','NumStorePurchases','NumCatalogPurchases']]\n",
    "df_numMelt = df_num.melt()\n",
    "\n",
    "sns.boxplot(x='variable',y='value',data=df_numMelt)\n",
    "plt.title('Boxplots for Numerical variables of Purchases')\n",
    "plt.xticks(rotation=45)"
   ]
  },
  {
   "cell_type": "code",
   "execution_count": 22,
   "id": "cb1da14a-c3bc-44b7-b460-1ad2a7dbf245",
   "metadata": {},
   "outputs": [
    {
     "data": {
      "text/plain": [
       "<AxesSubplot:ylabel='NumWebVisitsMonth'>"
      ]
     },
     "execution_count": 22,
     "metadata": {},
     "output_type": "execute_result"
    },
    {
     "data": {
      "image/png": "[encoded data removed]",
      "text/plain": [
       "<Figure size 432x288 with 1 Axes>"
      ]
     },
     "metadata": {
      "needs_background": "light"
     },
     "output_type": "display_data"
    }
   ],
   "source": [
    "sns.boxplot(data=market_cam, y='NumWebVisitsMonth')\n"
   ]
  },
  {
   "cell_type": "code",
   "execution_count": 25,
   "id": "b059ef71-1b16-404b-99d6-dc03523b5158",
   "metadata": {},
   "outputs": [
    {
     "name": "stderr",
     "output_type": "stream",
     "text": [
      "C:\\Intel\\python\\lib\\site-packages\\seaborn\\distributions.py:2619: FutureWarning: `distplot` is a deprecated function and will be removed in a future version. Please adapt your code to use either `displot` (a figure-level function with similar flexibility) or `histplot` (an axes-level function for histograms).\n",
      "  warnings.warn(msg, FutureWarning)\n"
     ]
    },
    {
     "data": {
      "image/png": "[encoded data removed]",
      "text/plain": [
       "<Figure size 1152x360 with 2 Axes>"
      ]
     },
     "metadata": {
      "needs_background": "light"
     },
     "output_type": "display_data"
    }
   ],
   "source": [
    "# 'Income ' distribution:\n",
    "plt.figure(1)\n",
    "plt.subplot(121)\n",
    "sns.distplot(market_cam['Income']);\n",
    "\n",
    "plt.subplot(122)\n",
    "market_cam['Income'].plot.box(figsize=(16,5))\n",
    "plt.show()"
   ]
  },
  {
   "cell_type": "markdown",
   "id": "fc820f10-a4da-47ba-b88f-1ffdba741cb2",
   "metadata": {},
   "source": [
    "- It can be inferred  that most of data in the distrubution of  income is towards left which mean it is not normally distributed.\n",
    "\n",
    "- The box plot confirms the presence of outliers values."
   ]
  },
  {
   "cell_type": "code",
   "execution_count": 29,
   "id": "be10b2a0-3b1e-4723-a8ce-89e001cf9c9b",
   "metadata": {},
   "outputs": [
    {
     "name": "stderr",
     "output_type": "stream",
     "text": [
      "C:\\Intel\\python\\lib\\site-packages\\pandas\\core\\arraylike.py:397: RuntimeWarning: invalid value encountered in log\n",
      "  result = getattr(ufunc, method)(*inputs, **kwargs)\n"
     ]
    },
    {
     "data": {
      "text/plain": [
       "<AxesSubplot:xlabel='Income', ylabel='Density'>"
      ]
     },
     "execution_count": 29,
     "metadata": {},
     "output_type": "execute_result"
    },
    {
     "data": {
      "image/png": "[encoded data removed]",
      "text/plain": [
       "<Figure size 432x288 with 1 Axes>"
      ]
     },
     "metadata": {
      "needs_background": "light"
     },
     "output_type": "display_data"
    }
   ],
   "source": [
    "# So we taking log for perfectly distribution of income\n",
    "\n",
    "market_cam_income=np.log(market_cam['Income'])\n",
    "sns.distplot(market_cam_income)\n"
   ]
  },
  {
   "cell_type": "code",
   "execution_count": 43,
   "id": "d47dff03-f9b8-48cd-9082-218f05c51445",
   "metadata": {},
   "outputs": [
    {
     "data": {
      "text/plain": [
       "<AxesSubplot:>"
      ]
     },
     "execution_count": 43,
     "metadata": {},
     "output_type": "execute_result"
    },
    {
     "data": {
      "image/png": "[encoded data removed]",
      "text/plain": [
       "<Figure size 1440x720 with 3 Axes>"
      ]
     },
     "metadata": {
      "needs_background": "light"
     },
     "output_type": "display_data"
    }
   ],
   "source": [
    "# explore the relationship between Education and amounts spent on different kinds of products, sales channels and their favourite campaigns\n",
    "\n",
    "df_mnt_edu_pivot=pd.pivot_table(data=market_cam, values=['MntWines', 'MntFruits', 'MntMeatProducts', 'MntFishProducts', 'MntSweetProducts', 'MntGoldProds'], columns='Education', aggfunc=np.sum)\n",
    "df_num_edu_pivot=pd.pivot_table(data=market_cam, values=['NumDealsPurchases', 'NumWebPurchases', 'NumCatalogPurchases','NumStorePurchases'], columns='Education', aggfunc=np.sum)\n",
    "df_cmp_edu_pivot=pd.pivot_table(data=market_cam, values=['AcceptedCmp1', 'AcceptedCmp2', 'AcceptedCmp3', 'AcceptedCmp4', 'AcceptedCmp5'], columns='Education', aggfunc=np.sum)\n",
    "\n",
    "fig, ax = plt.subplots(1,3,figsize=(20,10))\n",
    "\n",
    "df_mnt_edu_pivot.plot(kind='bar', stacked=True, ax=ax[0])\n",
    "df_num_edu_pivot.plot(kind='bar', stacked=True, ax=ax[1])\n",
    "df_cmp_edu_pivot.plot(kind='bar', stacked=True, ax=ax[2])"
   ]
  },
  {
   "cell_type": "markdown",
   "id": "2d15b928-d562-49b6-975b-ffb712bb057e",
   "metadata": {},
   "source": [
    "# Campaign performance\n",
    "\n",
    "- Campaign 4 is the winning campaign, campaign 2 received poor results\n",
    "- Campaign 3 seems to be very attractive to customers with basic education\n"
   ]
  },
  {
   "cell_type": "code",
   "execution_count": 69,
   "id": "994944ef-a4eb-4bdf-9fa1-9955aeffb380",
   "metadata": {},
   "outputs": [],
   "source": [
    "# cleaning education col.:\n",
    "market_new = market_cam.loc[(market_cam['Marital_Status']=='Alone')|(market_cam['Marital_Status']=='Single'),'Marital_Status']='Single'\n",
    "market_new = market_cam.loc[(market_cam['Marital_Status']=='Married')|(market_cam['Marital_Status']=='Together'),'Marital_Status']='Coupled'\n",
    "market_new = market_cam.loc[(market_cam['Marital_Status']=='Absurd')|(market_cam['Marital_Status']=='YOLO'),'Marital_Status']='Absurd'\n"
   ]
  },
  {
   "cell_type": "code",
   "execution_count": 72,
   "id": "fc315321-c9cb-4e85-a017-dafc28bce4e6",
   "metadata": {},
   "outputs": [
    {
     "data": {
      "text/plain": [
       "<AxesSubplot:>"
      ]
     },
     "execution_count": 72,
     "metadata": {},
     "output_type": "execute_result"
    },
    {
     "data": {
      "image/png": "[encoded data removed]",
      "text/plain": [
       "<Figure size 1440x720 with 3 Axes>"
      ]
     },
     "metadata": {
      "needs_background": "light"
     },
     "output_type": "display_data"
    }
   ],
   "source": [
    "# explore the relationship between Marital Status and amounts spent on different kinds of products, sales channels and their favourite campaigns\n",
    "df_mnt_pivot=pd.pivot_table(data=market_cam,values=['MntWines','MntFruits','MntMeatProducts','MntFishProducts','MntSweetProducts'],columns='Marital_Status',aggfunc=np.sum)\n",
    "df_num_pivot=pd.pivot_table(data=market_cam, values=['NumDealsPurchases', 'NumWebPurchases', 'NumCatalogPurchases','NumStorePurchases'], columns='Marital_Status', aggfunc=np.sum)\n",
    "df_cmp_pivot=pd.pivot_table(data=market_cam, values=['AcceptedCmp1', 'AcceptedCmp2', 'AcceptedCmp3', 'AcceptedCmp4', 'AcceptedCmp5'], columns='Marital_Status', aggfunc=np.sum)\n",
    "\n",
    "fig, ax = plt.subplots(1,3,figsize=(20,10))\n",
    "\n",
    "df_mnt_pivot.plot(kind='bar', stacked=True, ax=ax[0])\n",
    "df_num_pivot.plot(kind='bar', stacked=True, ax=ax[1])\n",
    "df_cmp_pivot.plot(kind='bar', stacked=True, ax=ax[2])"
   ]
  },
  {
   "cell_type": "code",
   "execution_count": 73,
   "id": "ca75e27c-43fc-4cc9-9665-3f5abe212414",
   "metadata": {},
   "outputs": [
    {
     "data": {
      "text/plain": [
       "<AxesSubplot:>"
      ]
     },
     "execution_count": 73,
     "metadata": {},
     "output_type": "execute_result"
    },
    {
     "data": {
      "image/png": "[encoded data removed]",
      "text/plain": [
       "<Figure size 576x576 with 2 Axes>"
      ]
     },
     "metadata": {
      "needs_background": "light"
     },
     "output_type": "display_data"
    }
   ],
   "source": [
    "# does number of kids home have anything to do with the kinds of products people buy?\n",
    "\n",
    "df_mnt_kh_pivot=pd.pivot_table(data=market_cam, values=['MntWines', 'MntFruits', 'MntMeatProducts', 'MntFishProducts', 'MntSweetProducts', 'MntGoldProds'], columns='Kidhome', aggfunc=np.sum)\n",
    "df_mnt_th_pivot=pd.pivot_table(data=market_cam, values=['MntWines', 'MntFruits', 'MntMeatProducts', 'MntFishProducts', 'MntSweetProducts', 'MntGoldProds'], columns='Teenhome', aggfunc=np.sum)\n",
    "\n",
    "fig, ax = plt.subplots(1,2,figsize=(8,8),sharey=True)\n",
    "\n",
    "df_mnt_kh_pivot.plot(kind='bar', stacked=True, ax=ax[0])\n",
    "df_mnt_th_pivot.plot(kind='bar', stacked=True, ax=ax[1])"
   ]
  },
  {
   "cell_type": "markdown",
   "id": "f96606c0-6e68-47e2-9cb4-3d22e1f8861e",
   "metadata": {},
   "source": [
    "- Our customers spend the most on wine by far, followed by meat\n",
    "\n",
    "- Customers with no kids tend to spend a lot on wine"
   ]
  },
  {
   "cell_type": "code",
   "execution_count": 74,
   "id": "3ab28199-96d8-4878-a697-dfdf353085f8",
   "metadata": {},
   "outputs": [
    {
     "data": {
      "text/plain": [
       "<AxesSubplot:>"
      ]
     },
     "execution_count": 74,
     "metadata": {},
     "output_type": "execute_result"
    },
    {
     "data": {
      "image/png": "[encoded data removed]",
      "text/plain": [
       "<Figure size 576x576 with 2 Axes>"
      ]
     },
     "metadata": {
      "needs_background": "light"
     },
     "output_type": "display_data"
    }
   ],
   "source": [
    "# explore the relationships between # of kids/teens home and sales channels\n",
    "\n",
    "df_num_kh_pivot=pd.pivot_table(data=market_cam, values=['NumDealsPurchases', 'NumWebPurchases', 'NumCatalogPurchases','NumStorePurchases'], columns='Kidhome', aggfunc=np.sum)\n",
    "df_num_th_pivot=pd.pivot_table(data=market_cam, values=['NumDealsPurchases', 'NumWebPurchases', 'NumCatalogPurchases','NumStorePurchases'], columns='Teenhome', aggfunc=np.sum)\n",
    "\n",
    "fig, ax = plt.subplots(1,2,figsize=(8,8), sharey=True)\n",
    "\n",
    "df_num_kh_pivot.plot(kind='bar', stacked=True, ax=ax[0])\n",
    "df_num_th_pivot.plot(kind='bar', stacked=True, ax=ax[1])"
   ]
  },
  {
   "cell_type": "code",
   "execution_count": 77,
   "id": "22b14693-65aa-484f-8f40-e62a67a5be15",
   "metadata": {},
   "outputs": [
    {
     "data": {
      "text/plain": [
       "<AxesSubplot:>"
      ]
     },
     "execution_count": 77,
     "metadata": {},
     "output_type": "execute_result"
    },
    {
     "data": {
      "image/png": "[encoded data removed]",
      "text/plain": [
       "<Figure size 1944x720 with 2 Axes>"
      ]
     },
     "metadata": {
      "needs_background": "light"
     },
     "output_type": "display_data"
    }
   ],
   "source": [
    "# explore the relationships between # of kids/teens home and campaign successes\n",
    "\n",
    "df_cmp_kh_pivot=pd.pivot_table(data=market_cam, values=['AcceptedCmp1', 'AcceptedCmp2', 'AcceptedCmp3', 'AcceptedCmp4', 'AcceptedCmp5'], columns='Kidhome', aggfunc=np.sum)\n",
    "df_cmp_th_pivot=pd.pivot_table(data=market_cam, values=['AcceptedCmp1', 'AcceptedCmp2', 'AcceptedCmp3', 'AcceptedCmp4', 'AcceptedCmp5'], columns='Teenhome', aggfunc=np.sum)\n",
    "\n",
    "fig, ax = plt.subplots(1,2,figsize=(27,10), sharey=True)\n",
    "\n",
    "df_cmp_kh_pivot.plot(kind='bar', stacked=True, ax=ax[0])\n",
    "df_cmp_th_pivot.plot(kind='bar', stacked=True, ax=ax[1])"
   ]
  },
  {
   "cell_type": "markdown",
   "id": "b7e1b0dc-d16d-4ffc-b311-da0b9fc5c1d5",
   "metadata": {},
   "source": [
    "- Customers with 1-2 kids or teens at home really liked campaign 3\n",
    "- Customers with teens (at least one) at home really appreciated campaign 4\n",
    "- customers with no teen or at least one at  home really appreciated campaign 5\n"
   ]
  },
  {
   "cell_type": "markdown",
   "id": "d3852c4f-7a80-435c-8099-cca1d9fdd562",
   "metadata": {},
   "source": [
    "# Conclusions of the EDA "
   ]
  },
  {
   "cell_type": "code",
   "execution_count": 78,
   "id": "12862906-0494-49f5-80b2-d1d53a0ad340",
   "metadata": {},
   "outputs": [],
   "source": [
    "# A large portion of our customers have at least a Master's degree\n",
    "# Higher education level seems to be correlated to higher income\n",
    "# Which makes me wonder if we as a business is not affordable for lower income customers\n",
    "# Customers with no kids seem to have higher income, which means that they might fit our targeted profile better\n",
    "# As a result, it might make sense for us to figure out how to tap into their disposable income (that they have no kids to spend on!) with our campaigns\n",
    "# Finally one thought on recency, I didn't find any correlation between any campaign and recency\n",
    "# But I think potential future campaigns that get inactive customers making purchases could be interesting "
   ]
  },
  {
   "cell_type": "code",
   "execution_count": null,
   "id": "2b650095-a118-4ec8-9d7e-1c7f259a897a",
   "metadata": {},
   "outputs": [],
   "source": []
  }
 ],
 "metadata": {
  "kernelspec": {
   "display_name": "Python 3 (ipykernel)",
   "language": "python",
   "name": "python3"
  },
  "language_info": {
   "codemirror_mode": {
    "name": "ipython",
    "version": 3
   },
   "file_extension": ".py",
   "mimetype": "text/x-python",
   "name": "python",
   "nbconvert_exporter": "python",
   "pygments_lexer": "ipython3",
   "version": "3.9.12"
  }
 },
 "nbformat": 4,
 "nbformat_minor": 5
}
